{
 "cells": [
  {
   "cell_type": "markdown",
   "metadata": {},
   "source": [
    "## Streamlitの起動\n",
    "\n",
    "プロンプトで以下の起動コマンドを実行する\n",
    "\n",
    "[書式]\n",
    "<pre>\n",
    "streamlit run プログラム\n",
    "</pre>\n"
   ]
  },
  {
   "cell_type": "markdown",
   "metadata": {},
   "source": [
    "`streamlit run streamlit_predict.py`"
   ]
  },
  {
   "cell_type": "markdown",
   "metadata": {},
   "source": [
    "## FastAPIの起動\n",
    "\n",
    "プロンプトで以下の起動コマンドを実行する\n",
    "\n",
    "[書式]\n",
    "<pre>\n",
    "uvicorn ファイル名:FastAPIインスタンス名 --reload\n",
    "\n",
    "例）ファイル名が「main.py」でFastAPIインスタンスが「app」の場合\n",
    "uvicorn main:app --reload\n",
    "</pre>\n",
    "\n"
   ]
  },
  {
   "cell_type": "markdown",
   "metadata": {},
   "source": [
    "`uvicorn fastapi_predict:app --reload`"
   ]
  }
 ],
 "metadata": {
  "kernelspec": {
   "display_name": "AIService2024",
   "language": "python",
   "name": "python3"
  },
  "language_info": {
   "codemirror_mode": {
    "name": "ipython",
    "version": 3
   },
   "file_extension": ".py",
   "mimetype": "text/x-python",
   "name": "python",
   "nbconvert_exporter": "python",
   "pygments_lexer": "ipython3",
   "version": "3.10.13"
  }
 },
 "nbformat": 4,
 "nbformat_minor": 2
}
